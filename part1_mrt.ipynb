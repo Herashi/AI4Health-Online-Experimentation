{
  "nbformat": 4,
  "nbformat_minor": 0,
  "metadata": {
    "colab": {
      "name": "part1_mrt.ipynb",
      "provenance": [],
      "authorship_tag": "ABX9TyMXhdYSVlUB/rRPen6XFI5x",
      "include_colab_link": true
    },
    "kernelspec": {
      "name": "python3",
      "display_name": "Python 3"
    }
  },
  "cells": [
    {
      "cell_type": "markdown",
      "metadata": {
        "id": "view-in-github",
        "colab_type": "text"
      },
      "source": [
        "<a href=\"https://colab.research.google.com/github/wdempsey/AI4Health-Online-Experimentation/blob/main/part1_mrt.ipynb\" target=\"_parent\"><img src=\"https://colab.research.google.com/assets/colab-badge.svg\" alt=\"Open In Colab\"/></a>"
      ]
    },
    {
      "cell_type": "markdown",
      "metadata": {
        "id": "VRMH8jI_13OX"
      },
      "source": [
        "# Online learning and experimentation algorithms in mobile health\r\n",
        "\r\n"
      ]
    },
    {
      "cell_type": "markdown",
      "metadata": {
        "id": "q_OHHDg8tNW2"
      },
      "source": [
        "In part 1, we will discuss the _micro-randomized trial design_ and the corresponding primary data analysis methods.  By the end of this section, you should be able to answer the following set of questions:\r\n",
        "- What is a just-in-time adaptive intervention (JITAI)? \r\n",
        "- What is a micro-randomized trial?\r\n",
        "- What is a causal excursion effect?  How does one estimate this effect?\r\n",
        "- What are the main goals of early-stage optimization trials?\r\n",
        "\r\n",
        "In addition, we will introduce the _HeartSteps simulator_.  This is a suite of functions that you can access via the GitHub Repository (in folder ``./hs_simulator/``) which allows us to generate synthetic users in a synthetic MRT for increasing physical activity.  We will use this simulator throughout this practical session. "
      ]
    },
    {
      "cell_type": "code",
      "metadata": {
        "id": "rvhbY9u0mwXb"
      },
      "source": [
        "## Import packages and check code cells run\n",
        "import numpy as np\n",
        "import scipy as sp\n",
        "from sklearn.linear_model import LinearRegression"
      ],
      "execution_count": null,
      "outputs": []
    },
    {
      "cell_type": "markdown",
      "metadata": {
        "id": "_YKIaRcmwv-g"
      },
      "source": [
        "# Part 1: Just-in-time adaptive interventions\r\n"
      ]
    },
    {
      "cell_type": "markdown",
      "metadata": {
        "id": "jZP-YwuptHcE"
      },
      "source": [
        "A JITAI is ``is an intervention design aiming to provide the right type/amount of support, at the right time, by adapting to an individual's changing internal and contextual state'' (Nahum-Shani, 2018).  \r\n",
        "\r\n",
        "- The term “just-in-time support” is used to describe an attempt to provide the right type (or amount) of support, at the right time.\r\n",
        "- Timing is largely event-based, e.g., \"a moment of high vulnerability and high receptivity\".  \r\n",
        "  - Ex. For a person attempting to quit smoking, a moment of high stress may lead to high likelihood of relapse.  If the person is currently available (e.g., no meeting on Google Calendar) and not currently active (e.g., not out for a walk), then the person may be receptive to a brief prompt aimed at reducing proximal stress.\r\n",
        "  - This is not \"timing-based\", e.g., need to take pills at 4pm every day.\r\n"
      ]
    },
    {
      "cell_type": "markdown",
      "metadata": {
        "id": "ln01XKOirhVS"
      },
      "source": [
        "\r\n",
        "There are 5 key components of a JITAI:\r\n",
        "- __Decision Points__: A decision point is a time at which an intervention decision is made. \r\n",
        "- __Intervention Options__: An array of possible treatments or actions that might be employed at any given decision point.\r\n",
        "- __Tailoring Variable__: A tailoring variable is information concerning the individual that is used to decide when (i.e., under what conditions) to provide an intervention and which intervention to provide. \r\n",
        "- __Outcome__:\r\n",
        "  - __Distal outcome__: Ultimate goal the intervention is intended to achieve; it is usually a primary clinical outcome, such as weight loss, drug/alcohol use reduction or increase in average activity level.  \r\n",
        "  - __Proximal outcome__: Short-term goals the intervention options are intended to achieve.  Typically thought to be on the causal pathway (i.e., a mediator).\r\n",
        "- __Decision rules__:  Operationalize the adaptation by specifying which intervention option to offer, for whom, and when. \r\n"
      ]
    },
    {
      "cell_type": "markdown",
      "metadata": {
        "id": "0xsctSnZrifU"
      },
      "source": [
        "A JITAI is an _intervention design_.  Behavioral scientists often have questions in how to best design a JITAI for a particular behavioral health setting.  Consider an mHealth smoking cessation setting.  Scientists may wish to intervene by either sending a reminder to practice mindfulness (hopefully reducing proximal stress) or not; however, it is unknown whether sending the message when the individual is currently stressed (high vulnerability but low receptivity) is better than when the individual is current not stressed (low vulnerability but high receptivity).  \r\n",
        "\r\n",
        "We will break for 15 minutes for small group intros and a short exercise.\r\n",
        "\r\n",
        "- __Group Task 1__: Identify the 5 elements from the following decision rule in a recovery support services mHealth study (A-CHESS):\r\n",
        "  - __``If``__ ``At High Risk Location``, __``Then``__ ``IO = Send Message``, __``Else``__ ``IO = Do Nothing``.\r\n",
        "- __Group Task 2__: Construct a JITAI to be included in a smoking cessation mHealth intervention package aimed at reducing proximal stress.  Be sure to highlight the 5 key elements.   \r\n"
      ]
    },
    {
      "cell_type": "markdown",
      "metadata": {
        "id": "q6qWBt8x2BEW"
      },
      "source": [
        "#Part 2: Micro-randomized trials (MRTs)"
      ]
    },
    {
      "cell_type": "markdown",
      "metadata": {
        "id": "EC6PEcBps-M7"
      },
      "source": [
        "MRTs are an experimental design to collect data to answer questions about the construction of JITAIs. \r\n",
        "\r\n",
        "- For each person in a study, let $t=1,\\ldots, T$ denote a sequence of decision points.  \r\n",
        "- At each decision time $t$,  we observe a state variable $S_t \\in \\mathbb{R}^p$.  \r\n",
        "- After observing the state variable $S_t$, the _clinical trialist_ decides to take action $A_t \\in \\mathcal{A}$ with probability $p_t (A_t \\mid H_t)$ (i.e., the randomization probability may depend on the observed history $H_t$).  \r\n",
        "- After observing state $S_t$ and taking action $A_t$, the agent observes the proximal response $Y_{t+1}$.  The proximal response is a deterministic function of state, action, and next state (i.e., $Y_{t+1} = g(S_t, A_t, S_{t+1})$)\r\n",
        "- The sequence of state, action, and reward at a sequence of decision points defines a _micro-randomized trial_, $\\{ S_t, A_t, Y_{t+1} \\}_{t=1}^T$.\r\n",
        "- Here, our goal is to collect data to optimize an intervention component\r\n",
        "  - Q1: Should we include this intervention component in an overall intervention package?\r\n",
        "  - Q2: What should the decision rule be in the optimized JITAI?"
      ]
    },
    {
      "cell_type": "markdown",
      "metadata": {
        "id": "YVoo7_phPz6J"
      },
      "source": [
        "## Part 2a: A simple MRT example ($n=1$)\r\n",
        "\r\n",
        "- $T = 200$\r\n",
        "- $S_t = (S_{t1}, S_{t2})$ where $S_{t1}$ is continuous and $S_{t2}$ is a binary state\r\n",
        "- $A_t \\sim \\text{Bern}(0.6)$\r\n",
        "- Define the proximal outcome as\r\n",
        "$$\r\n",
        "Y_{t+1} = S_t^\\prime \\alpha + (A_t - 0.6) S_t^\\prime \\beta \r\n",
        "$$"
      ]
    },
    {
      "cell_type": "code",
      "metadata": {
        "id": "EIRfY7By1qUQ",
        "colab": {
          "base_uri": "https://localhost:8080/"
        },
        "outputId": "7722e82d-ea70-426f-dbf7-9dfa80361835"
      },
      "source": [
        "# Simulation example\n",
        "T = 200 # number of steps\n",
        "mrt_prob = 0.6 # time-constant MRT randomizatoin probability\n",
        "\n",
        "## Generate context (normal and binary states)\n",
        "def generate_states(T):\n",
        "  mu, sigma = 0, 1 # mean and standard deviation\n",
        "  state1 = np.random.normal(mu, sigma, T) # Continuous state\n",
        "  state2 = np.random.binomial(n=1, p = 0.7,size=T) # Binary state\n",
        "  state = np.stack((state1,state2), axis = 1) # Compelte State at each time\n",
        "  return state\n",
        "\n",
        "## Generate actions (MRT with time-fixed probability)\n",
        "def generate_actions(mrt_prob, T):\n",
        "  action = np.random.binomial(n=1, p = mrt_prob,size=T) # Binary state\n",
        "  return action\n",
        "\n",
        "## Generate true reward\n",
        "def proximaloutcome(state, action):\n",
        "  base_reward = state[0] + 0.3*state[1] \n",
        "  advantage = 0.5*state[0] - 0.7*state[1]\n",
        "  return base_reward + advantage * (action - 0.6)\n",
        "\n",
        "## Generate single user MRT data\n",
        "def generate_user(mrt_prob, T):\n",
        "  state = generate_states(T)\n",
        "  action = generate_actions(mrt_prob, T)\n",
        "  y = np.repeat(0.,T)\n",
        "  for t in range(T):\n",
        "    y[t] = proximaloutcome(state[t,:], action[t]) + np.random.normal(0, 1, 1)\n",
        "  ## Triple\n",
        "  return state, action, y \n",
        "\n",
        "user_state, user_action, user_outcome = generate_user(mrt_prob, T)\n",
        "user_data = np.column_stack((user_state,user_action, user_outcome))\n",
        "print(\"First 10 entries of state (2D), action, and reward\")\n",
        "print(user_data[1:10,:])\n",
        "print(\"\\n\")"
      ],
      "execution_count": null,
      "outputs": [
        {
          "output_type": "stream",
          "text": [
            "First 10 entries of state (2D), action, and reward\n",
            "[[-1.56796807  1.          1.         -1.41292395]\n",
            " [-0.68038446  1.          0.          1.28851448]\n",
            " [ 0.56845368  1.          1.          0.99664277]\n",
            " [ 0.54490252  1.          1.          1.92281527]\n",
            " [-0.5903505   0.          0.         -0.00705039]\n",
            " [-1.15709988  1.          1.         -0.91053801]\n",
            " [ 0.93598785  1.          0.          1.10105061]\n",
            " [ 0.2721574   1.          1.         -0.43646135]\n",
            " [-1.25861393  0.          0.         -0.14104161]]\n",
            "\n",
            "\n"
          ],
          "name": "stdout"
        }
      ]
    },
    {
      "cell_type": "code",
      "metadata": {
        "id": "_L8vIkdSS1lk",
        "colab": {
          "base_uri": "https://localhost:8080/"
        },
        "outputId": "5d3c157c-b4a8-4504-f452-96d7b9a4b114"
      },
      "source": [
        "## Let's fit a model to the user-data.\r\n",
        " \r\n",
        "## Build the design matrix\r\n",
        "X = user_state\r\n",
        "for col in range(2):\r\n",
        "  temp = np.multiply(user_state[:,col],user_action)\r\n",
        "  X = np.column_stack((X, temp))\r\n",
        "\r\n",
        "reg = LinearRegression().fit(X,user_outcome)\r\n",
        "print(\"True coefficients using linear model\")\r\n",
        "print(np.array([1,0.3,0.5,-0.7]))\r\n",
        "print(\"Fitted coefficients using linear model\")\r\n",
        "print(reg.coef_)"
      ],
      "execution_count": null,
      "outputs": [
        {
          "output_type": "stream",
          "text": [
            "True coefficients using linear model\n",
            "[ 1.   0.3  0.5 -0.7]\n",
            "Fitted coefficients using linear model\n",
            "[ 0.75319931  0.79561062  0.40836539 -0.85470583]\n"
          ],
          "name": "stdout"
        }
      ]
    },
    {
      "cell_type": "markdown",
      "metadata": {
        "id": "5F464G1FwNiu"
      },
      "source": [
        "## Question 1: Why do we generate the proximal outcome in this way?"
      ]
    },
    {
      "cell_type": "markdown",
      "metadata": {
        "id": "jKrgg-JgJOib"
      },
      "source": [
        "If we take the expectation over the centered treatment we have\r\n",
        "\r\n",
        "$$\r\n",
        "\\mathbb{E} \\left[ (A_t - p_t) \\mid S_t \\right] = 0\r\n",
        "$$ \r\n",
        "\r\n",
        "This means that the first term is the baseline reward (averaging over treatment) and the second term is the treatment effect.  Centering effectively decouples the treatment effect model from the baseline model."
      ]
    },
    {
      "cell_type": "markdown",
      "metadata": {
        "id": "KwolFIRmvIqC"
      },
      "source": [
        "## Question 2: How can we adapt the traditional RCT estimand to the current setting?\r\n",
        "\r\n",
        "In an RCT, the __average treatment effect__ (ATE) is of interest.  We use potential outcomes to define this.  Let $Y(z)$ denote the potential outcome under treatment $z$.  Then, the ATE is defined as\r\n",
        "$$\r\n",
        "ATE = \\mathbb{E} \\left[ Y(1) - Y(0) \\right] \r\n",
        "$$\r\n",
        "where $Y(1)$ and $Y(0)$ are the potential outcomes for the participant under treatment $(z=1)$ and control $(z=0)$ respectively.  The expectation is with respect to the target population. \r\n",
        "\r\n",
        "Here, we have different a sequence of proximal outcomes.  How would you think about defining contrasts similar to the ATE in the current setting?"
      ]
    },
    {
      "cell_type": "markdown",
      "metadata": {
        "id": "CYJQPaKw8Ash"
      },
      "source": [
        "We will formally define this below, but if we think about the potential outcomes, we realize that the proximal outcome at time $t$ will depend not only on the current treatment, __but all prior treatments as well__!  So we need to consider contrasts defined by\n",
        "$$\n",
        "Y_{t+1}( \\bar a_{t-1}, 1 ) - Y_{t+1}( \\bar a_{t-1}, 0 )\n",
        "$$\n",
        "The main issue is that there are $2^{t-1}$ contrasts. This is quite numerous so instead, we typically consider averages over prior treatment.\n",
        "$$\n",
        "\\mathbb{E} \\left[ Y_{t+1}( \\bar A_{t-1}, 1 ) - Y_{t+1}( \\bar A_{t-1}, 0 ) \\right]\n",
        "$$\n",
        "\n"
      ]
    },
    {
      "cell_type": "markdown",
      "metadata": {
        "id": "CbnRinwV8DSb"
      },
      "source": [
        "## Question 3: What goes into choosing the randomization probabilities?\n",
        "\n",
        "- Why may we not want to use a simple Bernoulli $p=1/2$ coin flip to collect data in all micro-randomized trials?\n"
      ]
    },
    {
      "cell_type": "markdown",
      "metadata": {
        "id": "zfrZnOLpMKQI"
      },
      "source": [
        "Some reasons include\n",
        "  - __Burden__: users may not tolerate receiving many messages per day.  Suppose there were 5 decision points per day.  In an mHealth study aimed at increasing physical activity, too many messages sent on average may over-burden users?  How do we find out this dosage?\n",
        "  - __Availability__:  sometimes it may not be possible due to ethical or feasibility issues to provide treatment.  \n",
        "  - __At-risk times__: it may only be useful to provide interventions in certain states.  In Sense2Stop, a smoking cessation may only want to provide \n",
        "  - __Prior data__: \n",
        "\n"
      ]
    },
    {
      "cell_type": "markdown",
      "metadata": {
        "id": "noC7Rv40UUpY"
      },
      "source": [
        "## Small Group Exercises (15 minutes)\r\n",
        "\r\n",
        "- Discuss about questions 1-3\r\n",
        "- Extend the code to generate multiple users\r\n",
        "- Try and generate individuals so that the average in the population is still the same, but each individual has their own treatment effect and baseline reward.\r\n"
      ]
    },
    {
      "cell_type": "code",
      "metadata": {
        "id": "sxYe0W-Pkyit"
      },
      "source": [
        "### Generate multiple users\r\n",
        "\r\n",
        "### Refit the regression model"
      ],
      "execution_count": null,
      "outputs": []
    },
    {
      "cell_type": "markdown",
      "metadata": {
        "id": "zDCeGJpT3WhL"
      },
      "source": [
        "# Part 3a: Causal Excursion Effects\r\n",
        "\r\n",
        "The fully marginal causal excursion effect is defined as\r\n",
        "\r\n",
        "$$\r\n",
        "\\beta(t) = \\mathbb{E} \\left[ Y_{t+1}(\\bar A_{t-1}, 1) - Y_{t+1} (\\bar A_{t-1}, 0) \\right]\r\n",
        "$$\r\n",
        "\r\n",
        "This is the marginal causal excursion effect.  It is very similar to the ATE (i.e., averaging over the covariate distribution); however, in our current setting, we are also averaging over __prior treatments__.  Thus the effect is a single decision point _excursion_ from the MRT randomization probability. Under the following (standard) causal inference assumptions,\r\n",
        "\r\n",
        "- **Positivity**:\r\n",
        "- **Sequential ignorability**:\r\n",
        "- **Consistency**:\r\n",
        "\r\n",
        "the effect can be re-expressed\r\n",
        "\r\n",
        "$$\r\n",
        "\\beta(t) = \\mathbb{E} \\left[ Y_{t+1} \\mid A_t = 1 \\right] - \\mathbb{E} \\left[ Y_{t+1} \\mid A_t = 0 \\right]\r\n",
        "$$\r\n"
      ]
    },
    {
      "cell_type": "markdown",
      "metadata": {
        "id": "DOucoQPgbfuk"
      },
      "source": [
        "### Moderated effect\r\n",
        "\r\n",
        "Often, we want to understand if certain time-varying covariates _moderate_ the treatment effect.  That is, does the effect of treatment change given the individual is in a particular state.  To address this, we define the \r\n",
        "\r\n",
        "$$\r\n",
        "\\beta(t;s) = \\mathbb{E} \\left[ Y_{t+1}(\\bar A_{t-1}, 1) - Y_{t+1} (\\bar A_{t-1}, 0) \\mid S_t (A_t) = s \\right]\r\n",
        "$$\r\n",
        "\r\n",
        "This is the marginal causal excursion effect.  It is very similar to the ATE (i.e., averaging over the covariate distribution); however, in our current setting, we are also averaging over __prior treatments__.  Thus the effect is a single decision point _excursion_ from the MRT randomization probability. Under the following (standard) causal inference assumptions,\r\n",
        "\r\n",
        "- **Positivity**:\r\n",
        "- **Sequential ignorability**:\r\n",
        "- **Consistency**:\r\n",
        "\r\n",
        "the effect can be re-expressed\r\n",
        "\r\n",
        "$$\r\n",
        "\\beta(t) = \\mathbb{E} \\left[ Y_{t+1} \\mid A_t = 1 \\right] - \\mathbb{E} \\left[ Y_{t+1} \\mid A_t = 0 \\right]\r\n",
        "$$\r\n"
      ]
    },
    {
      "cell_type": "markdown",
      "metadata": {
        "id": "0qrftxRRALno"
      },
      "source": [
        "# Part 3a: Primary analysis method\r\n",
        "\r\n"
      ]
    },
    {
      "cell_type": "markdown",
      "metadata": {
        "id": "VG7DWkq2APRo"
      },
      "source": [
        "# Part 3c: Simple simulation practice\r\n",
        "\r\n",
        "__Group exercise__ (15 minutes): \r\n",
        "\r\n",
        "- Use the simulated MRT data to estimate the time-varying treatment effect.\r\n",
        "- Plot the effect as a function of day in study.\r\n",
        "- Extend the basic simulation so that $A_t$ depends on the state\r\n",
        "- Show that weights are necessary to estimate the marginal causal excursion effect.\r\n",
        "- Show that weights are not necessary to estimate the causal excursion effect conditional on current state.\r\n",
        "- What do the results tell us about the intervention component? \r\n",
        "  - If this was a real s"
      ]
    },
    {
      "cell_type": "code",
      "metadata": {
        "id": "ZbD3ostDhBmh"
      },
      "source": [
        "## Fitting the WCLS"
      ],
      "execution_count": null,
      "outputs": []
    },
    {
      "cell_type": "markdown",
      "metadata": {
        "id": "jTl30zTPlmmb"
      },
      "source": [
        "In the next section, we will start working with synthetic data built "
      ]
    }
  ]
}